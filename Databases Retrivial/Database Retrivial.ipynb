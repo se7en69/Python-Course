{
 "cells": [
  {
   "attachments": {},
   "cell_type": "markdown",
   "id": "cc21ca79",
   "metadata": {},
   "source": [
    "# Gene Information"
   ]
  },
  {
   "cell_type": "code",
   "execution_count": 7,
   "id": "a7bd8931",
   "metadata": {},
   "outputs": [
    {
     "ename": "KeyboardInterrupt",
     "evalue": "",
     "output_type": "error",
     "traceback": [
      "\u001b[1;31m---------------------------------------------------------------------------\u001b[0m",
      "\u001b[1;31mKeyboardInterrupt\u001b[0m                         Traceback (most recent call last)",
      "\u001b[1;32mc:\\Python\\Python Course\\Final\\Database Retrivial.ipynb Cell 2\u001b[0m in \u001b[0;36m<module>\u001b[1;34m\u001b[0m\n\u001b[0;32m     <a href='vscode-notebook-cell:/c%3A/Python/Python%20Course/Final/Database%20Retrivial.ipynb#W1sZmlsZQ%3D%3D?line=15'>16</a>\u001b[0m \u001b[39m# Example usage\u001b[39;00m\n\u001b[0;32m     <a href='vscode-notebook-cell:/c%3A/Python/Python%20Course/Final/Database%20Retrivial.ipynb#W1sZmlsZQ%3D%3D?line=16'>17</a>\u001b[0m genomic_accession \u001b[39m=\u001b[39m \u001b[39m\"\u001b[39m\u001b[39mNC_000001\u001b[39m\u001b[39m\"\u001b[39m  \u001b[39m# Replace with the accession number of your genomic sequence of interest\u001b[39;00m\n\u001b[1;32m---> <a href='vscode-notebook-cell:/c%3A/Python/Python%20Course/Final/Database%20Retrivial.ipynb#W1sZmlsZQ%3D%3D?line=17'>18</a>\u001b[0m sequence \u001b[39m=\u001b[39m fetch_genomic_sequence(genomic_accession)  \u001b[39m# Call the function with the accession number to retrieve the sequence\u001b[39;00m\n\u001b[0;32m     <a href='vscode-notebook-cell:/c%3A/Python/Python%20Course/Final/Database%20Retrivial.ipynb#W1sZmlsZQ%3D%3D?line=18'>19</a>\u001b[0m \u001b[39mprint\u001b[39m(sequence)\n",
      "\u001b[1;32mc:\\Python\\Python Course\\Final\\Database Retrivial.ipynb Cell 2\u001b[0m in \u001b[0;36mfetch_genomic_sequence\u001b[1;34m(accession)\u001b[0m\n\u001b[0;32m      <a href='vscode-notebook-cell:/c%3A/Python/Python%20Course/Final/Database%20Retrivial.ipynb#W1sZmlsZQ%3D%3D?line=7'>8</a>\u001b[0m handle \u001b[39m=\u001b[39m Entrez\u001b[39m.\u001b[39mefetch(db\u001b[39m=\u001b[39m\u001b[39m\"\u001b[39m\u001b[39mnuccore\u001b[39m\u001b[39m\"\u001b[39m, \u001b[39mid\u001b[39m\u001b[39m=\u001b[39maccession, rettype\u001b[39m=\u001b[39m\u001b[39m\"\u001b[39m\u001b[39mfasta\u001b[39m\u001b[39m\"\u001b[39m, retmode\u001b[39m=\u001b[39m\u001b[39m\"\u001b[39m\u001b[39mtext\u001b[39m\u001b[39m\"\u001b[39m)\n\u001b[0;32m      <a href='vscode-notebook-cell:/c%3A/Python/Python%20Course/Final/Database%20Retrivial.ipynb#W1sZmlsZQ%3D%3D?line=8'>9</a>\u001b[0m \u001b[39m# 'efetch' is used to fetch the sequence data from the \"nuccore\" database using the provided accession number.\u001b[39;00m\n\u001b[0;32m     <a href='vscode-notebook-cell:/c%3A/Python/Python%20Course/Final/Database%20Retrivial.ipynb#W1sZmlsZQ%3D%3D?line=9'>10</a>\u001b[0m \u001b[39m# 'rettype=\"fasta\"' specifies that the data should be returned in FASTA format (sequence data).\u001b[39;00m\n\u001b[0;32m     <a href='vscode-notebook-cell:/c%3A/Python/Python%20Course/Final/Database%20Retrivial.ipynb#W1sZmlsZQ%3D%3D?line=10'>11</a>\u001b[0m \u001b[39m# 'retmode=\"text\"' indicates that the data should be returned as a text string.\u001b[39;00m\n\u001b[1;32m---> <a href='vscode-notebook-cell:/c%3A/Python/Python%20Course/Final/Database%20Retrivial.ipynb#W1sZmlsZQ%3D%3D?line=11'>12</a>\u001b[0m record \u001b[39m=\u001b[39m handle\u001b[39m.\u001b[39;49mread()  \u001b[39m# Read the fetched sequence data\u001b[39;00m\n\u001b[0;32m     <a href='vscode-notebook-cell:/c%3A/Python/Python%20Course/Final/Database%20Retrivial.ipynb#W1sZmlsZQ%3D%3D?line=12'>13</a>\u001b[0m handle\u001b[39m.\u001b[39mclose()  \u001b[39m# Close the handle to release resources\u001b[39;00m\n\u001b[0;32m     <a href='vscode-notebook-cell:/c%3A/Python/Python%20Course/Final/Database%20Retrivial.ipynb#W1sZmlsZQ%3D%3D?line=13'>14</a>\u001b[0m \u001b[39mreturn\u001b[39;00m record\n",
      "File \u001b[1;32mc:\\Users\\92318\\AppData\\Local\\Programs\\Python\\Python310\\lib\\http\\client.py:459\u001b[0m, in \u001b[0;36mHTTPResponse.read\u001b[1;34m(self, amt)\u001b[0m\n\u001b[0;32m    456\u001b[0m     \u001b[39mreturn\u001b[39;00m \u001b[39mb\u001b[39m\u001b[39m\"\u001b[39m\u001b[39m\"\u001b[39m\n\u001b[0;32m    458\u001b[0m \u001b[39mif\u001b[39;00m \u001b[39mself\u001b[39m\u001b[39m.\u001b[39mchunked:\n\u001b[1;32m--> 459\u001b[0m     \u001b[39mreturn\u001b[39;00m \u001b[39mself\u001b[39;49m\u001b[39m.\u001b[39;49m_read_chunked(amt)\n\u001b[0;32m    461\u001b[0m \u001b[39mif\u001b[39;00m amt \u001b[39mis\u001b[39;00m \u001b[39mnot\u001b[39;00m \u001b[39mNone\u001b[39;00m:\n\u001b[0;32m    462\u001b[0m     \u001b[39mif\u001b[39;00m \u001b[39mself\u001b[39m\u001b[39m.\u001b[39mlength \u001b[39mis\u001b[39;00m \u001b[39mnot\u001b[39;00m \u001b[39mNone\u001b[39;00m \u001b[39mand\u001b[39;00m amt \u001b[39m>\u001b[39m \u001b[39mself\u001b[39m\u001b[39m.\u001b[39mlength:\n\u001b[0;32m    463\u001b[0m         \u001b[39m# clip the read to the \"end of response\"\u001b[39;00m\n",
      "File \u001b[1;32mc:\\Users\\92318\\AppData\\Local\\Programs\\Python\\Python310\\lib\\http\\client.py:582\u001b[0m, in \u001b[0;36mHTTPResponse._read_chunked\u001b[1;34m(self, amt)\u001b[0m\n\u001b[0;32m    580\u001b[0m \u001b[39mtry\u001b[39;00m:\n\u001b[0;32m    581\u001b[0m     \u001b[39mwhile\u001b[39;00m \u001b[39mTrue\u001b[39;00m:\n\u001b[1;32m--> 582\u001b[0m         chunk_left \u001b[39m=\u001b[39m \u001b[39mself\u001b[39;49m\u001b[39m.\u001b[39;49m_get_chunk_left()\n\u001b[0;32m    583\u001b[0m         \u001b[39mif\u001b[39;00m chunk_left \u001b[39mis\u001b[39;00m \u001b[39mNone\u001b[39;00m:\n\u001b[0;32m    584\u001b[0m             \u001b[39mbreak\u001b[39;00m\n",
      "File \u001b[1;32mc:\\Users\\92318\\AppData\\Local\\Programs\\Python\\Python310\\lib\\http\\client.py:565\u001b[0m, in \u001b[0;36mHTTPResponse._get_chunk_left\u001b[1;34m(self)\u001b[0m\n\u001b[0;32m    563\u001b[0m     \u001b[39mself\u001b[39m\u001b[39m.\u001b[39m_safe_read(\u001b[39m2\u001b[39m)  \u001b[39m# toss the CRLF at the end of the chunk\u001b[39;00m\n\u001b[0;32m    564\u001b[0m \u001b[39mtry\u001b[39;00m:\n\u001b[1;32m--> 565\u001b[0m     chunk_left \u001b[39m=\u001b[39m \u001b[39mself\u001b[39;49m\u001b[39m.\u001b[39;49m_read_next_chunk_size()\n\u001b[0;32m    566\u001b[0m \u001b[39mexcept\u001b[39;00m \u001b[39mValueError\u001b[39;00m:\n\u001b[0;32m    567\u001b[0m     \u001b[39mraise\u001b[39;00m IncompleteRead(\u001b[39mb\u001b[39m\u001b[39m'\u001b[39m\u001b[39m'\u001b[39m)\n",
      "File \u001b[1;32mc:\\Users\\92318\\AppData\\Local\\Programs\\Python\\Python310\\lib\\http\\client.py:525\u001b[0m, in \u001b[0;36mHTTPResponse._read_next_chunk_size\u001b[1;34m(self)\u001b[0m\n\u001b[0;32m    523\u001b[0m \u001b[39mdef\u001b[39;00m \u001b[39m_read_next_chunk_size\u001b[39m(\u001b[39mself\u001b[39m):\n\u001b[0;32m    524\u001b[0m     \u001b[39m# Read the next chunk size from the file\u001b[39;00m\n\u001b[1;32m--> 525\u001b[0m     line \u001b[39m=\u001b[39m \u001b[39mself\u001b[39;49m\u001b[39m.\u001b[39;49mfp\u001b[39m.\u001b[39;49mreadline(_MAXLINE \u001b[39m+\u001b[39;49m \u001b[39m1\u001b[39;49m)\n\u001b[0;32m    526\u001b[0m     \u001b[39mif\u001b[39;00m \u001b[39mlen\u001b[39m(line) \u001b[39m>\u001b[39m _MAXLINE:\n\u001b[0;32m    527\u001b[0m         \u001b[39mraise\u001b[39;00m LineTooLong(\u001b[39m\"\u001b[39m\u001b[39mchunk size\u001b[39m\u001b[39m\"\u001b[39m)\n",
      "File \u001b[1;32mc:\\Users\\92318\\AppData\\Local\\Programs\\Python\\Python310\\lib\\socket.py:705\u001b[0m, in \u001b[0;36mSocketIO.readinto\u001b[1;34m(self, b)\u001b[0m\n\u001b[0;32m    703\u001b[0m \u001b[39mwhile\u001b[39;00m \u001b[39mTrue\u001b[39;00m:\n\u001b[0;32m    704\u001b[0m     \u001b[39mtry\u001b[39;00m:\n\u001b[1;32m--> 705\u001b[0m         \u001b[39mreturn\u001b[39;00m \u001b[39mself\u001b[39;49m\u001b[39m.\u001b[39;49m_sock\u001b[39m.\u001b[39;49mrecv_into(b)\n\u001b[0;32m    706\u001b[0m     \u001b[39mexcept\u001b[39;00m timeout:\n\u001b[0;32m    707\u001b[0m         \u001b[39mself\u001b[39m\u001b[39m.\u001b[39m_timeout_occurred \u001b[39m=\u001b[39m \u001b[39mTrue\u001b[39;00m\n",
      "File \u001b[1;32mc:\\Users\\92318\\AppData\\Local\\Programs\\Python\\Python310\\lib\\ssl.py:1274\u001b[0m, in \u001b[0;36mSSLSocket.recv_into\u001b[1;34m(self, buffer, nbytes, flags)\u001b[0m\n\u001b[0;32m   1270\u001b[0m     \u001b[39mif\u001b[39;00m flags \u001b[39m!=\u001b[39m \u001b[39m0\u001b[39m:\n\u001b[0;32m   1271\u001b[0m         \u001b[39mraise\u001b[39;00m \u001b[39mValueError\u001b[39;00m(\n\u001b[0;32m   1272\u001b[0m           \u001b[39m\"\u001b[39m\u001b[39mnon-zero flags not allowed in calls to recv_into() on \u001b[39m\u001b[39m%s\u001b[39;00m\u001b[39m\"\u001b[39m \u001b[39m%\u001b[39m\n\u001b[0;32m   1273\u001b[0m           \u001b[39mself\u001b[39m\u001b[39m.\u001b[39m\u001b[39m__class__\u001b[39m)\n\u001b[1;32m-> 1274\u001b[0m     \u001b[39mreturn\u001b[39;00m \u001b[39mself\u001b[39;49m\u001b[39m.\u001b[39;49mread(nbytes, buffer)\n\u001b[0;32m   1275\u001b[0m \u001b[39melse\u001b[39;00m:\n\u001b[0;32m   1276\u001b[0m     \u001b[39mreturn\u001b[39;00m \u001b[39msuper\u001b[39m()\u001b[39m.\u001b[39mrecv_into(buffer, nbytes, flags)\n",
      "File \u001b[1;32mc:\\Users\\92318\\AppData\\Local\\Programs\\Python\\Python310\\lib\\ssl.py:1130\u001b[0m, in \u001b[0;36mSSLSocket.read\u001b[1;34m(self, len, buffer)\u001b[0m\n\u001b[0;32m   1128\u001b[0m \u001b[39mtry\u001b[39;00m:\n\u001b[0;32m   1129\u001b[0m     \u001b[39mif\u001b[39;00m buffer \u001b[39mis\u001b[39;00m \u001b[39mnot\u001b[39;00m \u001b[39mNone\u001b[39;00m:\n\u001b[1;32m-> 1130\u001b[0m         \u001b[39mreturn\u001b[39;00m \u001b[39mself\u001b[39;49m\u001b[39m.\u001b[39;49m_sslobj\u001b[39m.\u001b[39;49mread(\u001b[39mlen\u001b[39;49m, buffer)\n\u001b[0;32m   1131\u001b[0m     \u001b[39melse\u001b[39;00m:\n\u001b[0;32m   1132\u001b[0m         \u001b[39mreturn\u001b[39;00m \u001b[39mself\u001b[39m\u001b[39m.\u001b[39m_sslobj\u001b[39m.\u001b[39mread(\u001b[39mlen\u001b[39m)\n",
      "\u001b[1;31mKeyboardInterrupt\u001b[0m: "
     ]
    }
   ],
   "source": [
    "# Import the Entrez module from Biopython for accessing NCBI databases\n",
    "from Bio import Entrez\n",
    "\n",
    "# Function to fetch genomic sequence using the provided accession number\n",
    "def fetch_genomic_sequence(accession):\n",
    "    Entrez.email = \"hanzo7n@gmail.com\"  # Replace with your email address\n",
    "    # Set the email address to allow NCBI to contact you in case of any issues\n",
    "    handle = Entrez.efetch(db=\"nuccore\", id=accession, rettype=\"fasta\", retmode=\"text\")\n",
    "    # 'efetch' is used to fetch the sequence data from the \"nuccore\" database using the provided accession number.\n",
    "    # 'rettype=\"fasta\"' specifies that the data should be returned in FASTA format (sequence data).\n",
    "    # 'retmode=\"text\"' indicates that the data should be returned as a text string.\n",
    "    record = handle.read()  # Read the fetched sequence data\n",
    "    handle.close()  # Close the handle to release resources\n",
    "    return record  # Return the fetched genomic sequence as a string\n",
    "\n",
    "# Example usage\n",
    "genomic_accession = \"NC_000001\"  # Replace with the accession number of your genomic sequence of interest\n",
    "sequence = fetch_genomic_sequence(genomic_accession)  # Call the function with the accession number to retrieve the sequence\n",
    "print(sequence)  # Print the retrieved genomic sequence\n"
   ]
  },
  {
   "attachments": {},
   "cell_type": "markdown",
   "id": "eb8625ba",
   "metadata": {},
   "source": [
    "# Protein Sequence"
   ]
  },
  {
   "cell_type": "code",
   "execution_count": 4,
   "id": "b5c5bb2f",
   "metadata": {},
   "outputs": [
    {
     "name": "stdout",
     "output_type": "stream",
     "text": [
      ">sp|P01308.1|INS_HUMAN RecName: Full=Insulin; Contains: RecName: Full=Insulin B chain; Contains: RecName: Full=Insulin A chain; Flags: Precursor\n",
      "MALWMRLLPLLALLALWGPDPAAAFVNQHLCGSHLVEALYLVCGERGFFYTPKTRREAEDLQVGQVELGG\n",
      "GPGAGSLQPLALEGSLQKRGIVEQCCTSICSLYQLENYCN\n",
      "\n",
      "\n"
     ]
    }
   ],
   "source": [
    "# Import the Entrez module from Biopython for accessing NCBI databases\n",
    "from Bio import Entrez\n",
    "\n",
    "# Function to fetch protein sequence using the provided accession number\n",
    "def fetch_protein_sequence(accession):\n",
    "    Entrez.email = \"hanzo7n@gmail.com\"  # Replace with your email address\n",
    "    # Set the email address to allow NCBI to contact you in case of any issues\n",
    "    handle = Entrez.efetch(db=\"protein\", id=accession, rettype=\"fasta\", retmode=\"text\")\n",
    "    # 'efetch' is used to fetch the sequence data from the \"protein\" database using the provided accession number.\n",
    "    # 'rettype=\"fasta\"' specifies that the data should be returned in FASTA format (sequence data).\n",
    "    # 'retmode=\"text\"' indicates that the data should be returned as a text string.\n",
    "    record = handle.read()  # Read the fetched sequence data\n",
    "    handle.close()  # Close the handle to release resources\n",
    "    return record  # Return the fetched protein sequence as a string\n",
    "\n",
    "# Example usage\n",
    "protein_accession = \"P01308\"  # Replace with the accession number of your protein of interest\n",
    "sequence = fetch_protein_sequence(protein_accession)  # Call the function with the accession number to retrieve the sequence\n",
    "print(sequence)  # Print the retrieved protein sequence\n"
   ]
  },
  {
   "attachments": {},
   "cell_type": "markdown",
   "id": "97ab3980",
   "metadata": {},
   "source": [
    "# Mrna Sequence"
   ]
  },
  {
   "cell_type": "code",
   "execution_count": 5,
   "id": "31a72219",
   "metadata": {},
   "outputs": [
    {
     "name": "stdout",
     "output_type": "stream",
     "text": [
      ">NM_001123456.1 Xenopus tropicalis protein tyrosine phosphatase non-receptor type 6 (ptpn6), mRNA\n",
      "CAGCAGGCCCAGAAGGTTGTAGTGGGAGACAACTTGCAAAAGAGACAGCGGAGAGTATGTGTCACCCAGT\n",
      "GCTTCTTGTGCTTGTCTCTTCGACTGCGTGAGAGTGACACTAGGAGAGAGAGAGGAGGAAGAAACCAGAG\n",
      "ACAGCAGAAAGAGGAAGCCACGCGCTCTCCACTCCCAGACAACTGCACATCACTGAGCGGACAAGACCTC\n",
      "CACCATGGTCAGGTGGCTTCACCAGAACATCTCAGGGCTGGAAGCTGAGGCTCGGCTGAAATCTCGGGGG\n",
      "GTTCATGGAAGTTTCCTGGTCCGTCCCAGCAAGAAAAAACCAGAAGACTTCTCACTATCTGTGAGGGTCG\n",
      "AAGACTCAGTAACGCACATCAGGATCCAAAATACTGGTGACTACTATGATCTTTATGGGGGGGAGCAGTT\n",
      "TGCTTCTCTGTCTGAGCTGGTGGAGTTCTACACGGGACAAGCGGAATGCCTACAGGATACCTCTGGGAAC\n",
      "CGCATTGAGCTTAAATACCCGCTGAATTGCTCAGACCCCACCAATGAGCGGTGGTATCACGGGTACCTCT\n",
      "CAGGCCCCGACGCTGAAAAGTTGCTGCAGAAGACGGGGGAGCCCTGGACCTTCCTGGTTAGAGAGAGTCG\n",
      "CAGCAACCCGGGGGATTTTGTCATCTCCATCCTAACCCCAGAGCAGAAAGATGGGGTGCACAAGGTGACA\n",
      "CATGTCAAGATAAATACAGAGAAGAATAAGGATACATATAATATCGGCAGGGAGAAGTTTGAGTCACTTA\n",
      "CAGACCTTATTGAGTGGCACAAGAAGAAGCCGATCGAGGAAGCAACAGGGAGCCATTTATTCCTAAAGAA\n",
      "GCCATGTTACTCCACGAGAGTCAATGCTGCCGACATTGAGAATCGAATGAAAGAATTAAACAAGAAGTCG\n",
      "GAGCAAGATGAGGCGGCCAAAGCAGGATTCTGGGAAGAGTTTGACGCTCTACAGAAACAGGAAAACAAGG\n",
      "TGCACAATGACCGTAAAGAGGGACAGAGGCCGGAGAATAAGAGCAAGAACCGCTACAAGAATATTCTGCC\n",
      "CTATGATCACACAAGAGTTATACTGAAATGTGGAGACAATAACACTCCTGGCTCCGACTATATCAATGCC\n",
      "AACTATGTCAACAACCTGCTATGGGCAGAAGGTGAACCCCCAAAACGTTTCATTGCTTGCCAAGGTTGCC\n",
      "TGAACTCCACCACAGGGGACTTCTGGGAGATGGTCTGGCAGGAGAACAGCCGCGTGATTGTAATGACCAC\n",
      "GAAAGAGATCGAGAAAGGCCGGACAAAATGTGTTCCGTACTGGCCAGACGTGGGGACCAATATGAAGGAG\n",
      "TTTGGACGGTTTTTGGTACAGCTCATGAGCGAACGTGACACCAAGGAGTATAAAGTCCGACTTCTCCGCG\n",
      "TCTCATTAACAGAAAGTACTGAAAAGAGTCGCGATATCCATCACTATCAGTACCTGACCTGGCCAGATCA\n",
      "TGGGGTGCCGGCAGACCCTGGCGGTGTCCTGAGTTTCCTGGAAGAGGTTAATAGCATGCAGGAGAGCATG\n",
      "CCAAGGGCCGGAGCCATTGTAGTGCACTGCAGTGCTGGGATTGGCCGCACAGGAACCATTATCGCCATTG\n",
      "ACATGTTGTTGGACTTGATTCAAATGAAAGGGGTGGACAGCGATATCGACGTGCAGAAGACCATCCAGAT\n",
      "GGTGCGAAACCAGCGCTCAGGCATGGTGCAGACTGAAGCTCAATACAAGTTCATTTACTCCGCCATAGCA\n",
      "CAATTCATTGACTCTACCAAACACAAGTTGAAAGCAATGGAGAACAGAAATGCGACAGAATCTGAATATG\n",
      "GGAATCTGGGGGCCTCCCTAACAAAAATGAAAGTGACAAGAAGTTCCTCGAAGAACCAGCCCGAGGGAAC\n",
      "AGTCTATGAGAACCTCAATGCCGGAAAGCAAAAAGAAGAAGTGGTAAAGAAGAAATCATCCGAAAAGCAG\n",
      "AGATCATCGGTGAAAAAGAAGTGACCGGACTGTACGCTCCCGACTGGATGCCGACCTGCAGTATTGCGTC\n",
      "AGCTCGTATCACATGAAAGGCTGGGATTCTCTTACCGCCGAAAAGCAATCACTCCAATTCGCTCTTATTG\n",
      "ATGTGTGTGTATAACAAGCGCAAAGCGCTGGTACCGGGATCCAGACTGACGATACAGCACCCATTGGCCT\n",
      "CCCATGTGAATTTGTTTTTTCTACAAGTGTCTCCCAAGCTCAGTGTCACTATGTTTACTTGAAAGTGCCA\n",
      "AACATGCAGCCAGTGGTAATGTAATAAAGTATATTACACACTCAAAAAAAAAAAAAAAAAA\n",
      "\n",
      "\n"
     ]
    }
   ],
   "source": [
    "# Import the Entrez module from Biopython for accessing NCBI databases\n",
    "from Bio import Entrez\n",
    "\n",
    "# Function to fetch mRNA sequence using the provided accession number\n",
    "def fetch_mrna_sequence(accession):\n",
    "    Entrez.email = \"hanzo7n@gmail.com\"  # Replace with your email address\n",
    "    # Set the email address to allow NCBI to contact you in case of any issues\n",
    "    handle = Entrez.efetch(db=\"nucleotide\", id=accession, rettype=\"fasta\", retmode=\"text\")\n",
    "    # 'efetch' is used to fetch the sequence data from the \"nucleotide\" database using the provided accession number.\n",
    "    # 'rettype=\"fasta\"' specifies that the data should be returned in FASTA format (sequence data).\n",
    "    # 'retmode=\"text\"' indicates that the data should be returned as a text string.\n",
    "    record = handle.read()  # Read the fetched sequence data\n",
    "    handle.close()  # Close the handle to release resources\n",
    "    return record  # Return the fetched mRNA sequence as a string\n",
    "\n",
    "# Example usage\n",
    "mrna_accession = \"NM_001123456\"  # Replace with the accession number of your mRNA of interest\n",
    "sequence = fetch_mrna_sequence(mrna_accession)  # Call the function with the accession number to retrieve the sequence\n",
    "print(sequence)  # Print the retrieved mRNA sequence"
   ]
  },
  {
   "attachments": {},
   "cell_type": "markdown",
   "id": "143ec975",
   "metadata": {},
   "source": [
    "# Genomic Sequence"
   ]
  },
  {
   "cell_type": "code",
   "execution_count": null,
   "id": "27a95aec",
   "metadata": {},
   "outputs": [],
   "source": [
    "# Import the Entrez module from Biopython for accessing NCBI databases\n",
    "from Bio import Entrez\n",
    "\n",
    "# Function to fetch genomic sequence using the provided accession number\n",
    "def fetch_genomic_sequence(accession):\n",
    "    Entrez.email = \"hanzo7n@gmail.com\"  # Replace with your email address\n",
    "    # Set the email address to allow NCBI to contact you in case of any issues\n",
    "    handle = Entrez.efetch(db=\"nuccore\", id=accession, rettype=\"fasta\", retmode=\"text\")\n",
    "    # 'efetch' is used to fetch the sequence data from the \"nuccore\" database using the provided accession number.\n",
    "    # 'rettype=\"fasta\"' specifies that the data should be returned in FASTA format (sequence data).\n",
    "    # 'retmode=\"text\"' indicates that the data should be returned as a text string.\n",
    "    record = handle.read()  # Read the fetched sequence data\n",
    "    handle.close()  # Close the handle to release resources\n",
    "    return record  # Return the fetched genomic sequence as a string\n",
    "\n",
    "# Example usage\n",
    "genomic_accession = \"NC_000001\"  # Replace with the accession number of your genomic sequence of interest\n",
    "sequence = fetch_genomic_sequence(genomic_accession)  # Call the function with the accession number to retrieve the sequence\n",
    "print(sequence)  # Print the retrieved genomic sequence\n"
   ]
  },
  {
   "attachments": {},
   "cell_type": "markdown",
   "id": "bcb03dcc",
   "metadata": {},
   "source": [
    "# PDB Strcture Retrival"
   ]
  },
  {
   "cell_type": "code",
   "execution_count": 8,
   "id": "24960aac",
   "metadata": {},
   "outputs": [
    {
     "name": "stdout",
     "output_type": "stream",
     "text": [
      "Structure exists: './pdb1crn.ent' \n",
      "PDB structure 1CRN downloaded as pdb1crn.ent\n"
     ]
    }
   ],
   "source": [
    "# Import the PDBList module from Biopython for accessing the Protein Data Bank (PDB)\n",
    "from Bio.PDB import PDBList\n",
    "\n",
    "# Function to fetch PDB structure using the provided PDB ID\n",
    "def fetch_pdb_structure(pdb_id):\n",
    "    pdbl = PDBList()\n",
    "    # Create a PDBList object to interact with the PDB database\n",
    "    \n",
    "    pdbl.retrieve_pdb_file(pdb_id, file_format=\"pdb\", pdir=\"./\")\n",
    "    # Use the retrieve_pdb_file method to fetch the PDB structure with the given PDB ID\n",
    "    # 'file_format=\"pdb\"' specifies that the data should be returned in PDB format (structure data).\n",
    "    # 'pdir=\"./\"' indicates that the downloaded PDB file will be saved in the current directory.\n",
    "    \n",
    "    pdb_filename = f\"pdb{pdb_id.lower()}.ent\"\n",
    "    # The downloaded PDB file will have a filename in the format \"pdbXXXX.ent\", where XXXX is the PDB ID in lowercase.\n",
    "    \n",
    "    return pdb_filename  # Return the filename of the downloaded PDB structure\n",
    "\n",
    "# Example usage\n",
    "pdb_id = \"1CRN\"  # Replace with the PDB ID of the structure you want to retrieve\n",
    "pdb_filename = fetch_pdb_structure(pdb_id)  # Call the function with the PDB ID to retrieve the structure\n",
    "print(f\"PDB structure {pdb_id} downloaded as {pdb_filename}\")  # Print the filename of the downloaded PDB structure\n"
   ]
  },
  {
   "attachments": {},
   "cell_type": "markdown",
   "id": "55652372",
   "metadata": {},
   "source": [
    "# Querying Database"
   ]
  },
  {
   "cell_type": "code",
   "execution_count": 1,
   "id": "c3e29940",
   "metadata": {},
   "outputs": [
    {
     "name": "stdout",
     "output_type": "stream",
     "text": [
      "{'DbList': ['pubmed', 'protein', 'nuccore', 'ipg', 'nucleotide', 'structure', 'genome', 'annotinfo', 'assembly', 'bioproject', 'biosample', 'blastdbinfo', 'books', 'cdd', 'clinvar', 'gap', 'gapplus', 'grasp', 'dbvar', 'gene', 'gds', 'geoprofiles', 'homologene', 'medgen', 'mesh', 'nlmcatalog', 'omim', 'orgtrack', 'pmc', 'popset', 'proteinclusters', 'pcassay', 'protfam', 'pccompound', 'pcsubstance', 'seqannot', 'snp', 'sra', 'taxonomy', 'biocollections', 'gtr']}\n",
      "KM288867\n",
      "Plasmodium falciparum clone PF3D7_0709000 chloroquine resistance transporter (CRT) gene, complete cds\n",
      "not processed:\n",
      "type: source\n",
      "location: [0:10000](+)\n",
      "qualifiers:\n",
      "    Key: clone, Value: ['PF3D7_0709000']\n",
      "    Key: db_xref, Value: ['taxon:5833']\n",
      "    Key: mol_type, Value: ['genomic DNA']\n",
      "    Key: organism, Value: ['Plasmodium falciparum']\n",
      "\n",
      "['CRT']\n",
      "not processed:\n",
      "type: mRNA\n",
      "location: join{[2751:3543](+), [3720:3989](+), [4168:4341](+), [4513:4646](+), [4799:4871](+), [4994:5070](+), [5166:5249](+), [5376:5427](+), [5564:5621](+), [5769:5862](+), [6055:6100](+), [6247:6302](+), [6471:7598](+)}\n",
      "qualifiers:\n",
      "    Key: gene, Value: ['CRT']\n",
      "    Key: product, Value: ['chloroquine resistance transporter']\n",
      "\n",
      "not processed:\n",
      "type: 5'UTR\n",
      "location: [2751:3452](+)\n",
      "qualifiers:\n",
      "    Key: gene, Value: ['CRT']\n",
      "\n",
      "not processed:\n",
      "type: primer_bind\n",
      "location: [2935:2958](+)\n",
      "qualifiers:\n",
      "\n",
      "not processed:\n",
      "type: primer_bind\n",
      "location: [3094:3121](+)\n",
      "qualifiers:\n",
      "\n",
      "not processed:\n",
      "type: CDS\n",
      "location: join{[3452:3543](+), [3720:3989](+), [4168:4341](+), [4513:4646](+), [4799:4871](+), [4994:5070](+), [5166:5249](+), [5376:5427](+), [5564:5621](+), [5769:5862](+), [6055:6100](+), [6247:6302](+), [6471:6548](+)}\n",
      "qualifiers:\n",
      "    Key: codon_start, Value: ['1']\n",
      "    Key: gene, Value: ['CRT']\n",
      "    Key: product, Value: ['chloroquine resistance transporter']\n",
      "    Key: protein_id, Value: ['AIW62921.1']\n",
      "    Key: translation, Value: ['MKFASKKNNQKNSSKNDERYRELDNLVQEGNGSRLGGGSCLGKCAHVFKLIFKEIKDNIFIYILSIIYLSVCVMNKIFAKRTLNKIGNYSFVTSETHNFICMIMFFIVYSLFGNKKGNSKERHRSFNLQFFAISMLDACSVILAFIGLTRTTGNIQSFVLQLSIPINMFFCFLILRYRYHLYNYLGAVIIVVTIALVEMKLSFETQEENSIIFNLVLISALIPVCFSNMTREIVFKKYKIDILRLNAMVSFFQLFTSCLILPVYTLPFLKQLHLPYNEIWTNIKNGFACLFLGRNTVVENCGLGMAKLCDDCDGAWKTFALFSFFNICDNLITSYIIDKFSTMTYTIVSCIQGPAIAIAYYFKFLAGDVVREPRLLDFVTLFGYLFGSIIYRVGNIILERKKMRNEENEDSEGELTNVDSIITQ']\n",
      "\n",
      "Exon 3452 3543 1\n",
      "Exon 3720 3989 1\n",
      "Exon 4168 4341 1\n",
      "not processed:\n",
      "type: primer_bind\n",
      "location: [4288:4323](-)\n",
      "qualifiers:\n",
      "\n",
      "Exon 4513 4646 1\n",
      "Exon 4799 4871 1\n",
      "Exon 4994 5070 1\n",
      "Exon 5166 5249 1\n",
      "Exon 5376 5427 1\n",
      "Exon 5564 5621 1\n",
      "Exon 5769 5862 1\n",
      "Exon 6055 6100 1\n",
      "Exon 6247 6302 1\n",
      "Exon 6471 6548 1\n",
      "not processed:\n",
      "type: 3'UTR\n",
      "location: [6548:7598](+)\n",
      "qualifiers:\n",
      "    Key: gene, Value: ['CRT']\n",
      "\n",
      "not processed:\n",
      "type: primer_bind\n",
      "location: [7833:7856](-)\n",
      "qualifiers:\n",
      "\n",
      "molecule_type=DNA\n",
      "topology=linear\n",
      "data_file_division=INV\n",
      "date=12-NOV-2014\n",
      "accessions=['KM288867']\n",
      "sequence_version=1\n",
      "keywords=['']\n",
      "source=Plasmodium falciparum (malaria parasite P. falciparum)\n",
      "organism=Plasmodium falciparum\n",
      "taxonomy=['Eukaryota', 'Sar', 'Alveolata', 'Apicomplexa', 'Aconoidasida', 'Haemosporida', 'Plasmodiidae', 'Plasmodium', 'Plasmodium (Laverania)']\n",
      "references=[Reference(title='Versatile control of Plasmodium falciparum gene expression with an inducible protein-RNA interaction', ...), Reference(title='Direct Submission', ...)]\n",
      "10000\n",
      "[Reference(title='Versatile control of Plasmodium falciparum gene expression with an inducible protein-RNA interaction', ...), Reference(title='Direct Submission', ...)]\n",
      "25370483\n",
      "PMID: 25370483\n",
      "OWN: NLM\n",
      "STAT: MEDLINE\n",
      "DCOM: 20160112\n",
      "LR: 20181113\n",
      "IS: 2041-1723 (Electronic) 2041-1723 (Linking)\n",
      "VI: 5\n",
      "DP: 2014 Nov 5\n",
      "TI: Versatile control of Plasmodium falciparum gene expression with an inducible protein-RNA interaction.\n",
      "PG: 5329\n",
      "LID: 10.1038/ncomms6329 [doi]\n",
      "AB: The available tools for conditional gene expression in Plasmodium falciparum are limited. Here, to enable reliable control of target gene expression, we build a system to efficiently modulate translation. We overcame several problems associated with other approaches for regulating gene expression in P. falciparum. Specifically, our system functions predictably across several native and engineered promoter contexts, and affords control over reporter and native parasite proteins irrespective of their subcellular compartmentalization. Induction and repression of gene expression are rapid, homogeneous and stable over prolonged periods. To demonstrate practical application of our system, we used it to reveal direct links between antimalarial drugs and their native parasite molecular target. This is an important outcome given the rapid spread of resistance, and intensified efforts to efficiently discover and optimize new antimalarial drugs. Overall, the studies presented highlight the utility of our system for broadly controlling gene expression and performing functional genetics in P. falciparum.\n",
      "FAU: ['Goldfless, Stephen J', 'Wagner, Jeffrey C', 'Niles, Jacquin C']\n",
      "AU: ['Goldfless SJ', 'Wagner JC', 'Niles JC']\n",
      "AD: ['Department of Biological Engineering, Massachusetts Institute of Technology, 77 Massachusetts Avenue, Cambridge, Massachusetts 02139, USA.', 'Department of Biological Engineering, Massachusetts Institute of Technology, 77 Massachusetts Avenue, Cambridge, Massachusetts 02139, USA.', 'Department of Biological Engineering, Massachusetts Institute of Technology, 77 Massachusetts Avenue, Cambridge, Massachusetts 02139, USA.']\n",
      "LA: ['eng']\n",
      "SI: ['GENBANK/KM288848', 'GENBANK/KM288849', 'GENBANK/KM288850', 'GENBANK/KM288851', 'GENBANK/KM288852', 'GENBANK/KM288853', 'GENBANK/KM288854', 'GENBANK/KM288855', 'GENBANK/KM288856', 'GENBANK/KM288857', 'GENBANK/KM288858', 'GENBANK/KM288859', 'GENBANK/KM288860', 'GENBANK/KM288861', 'GENBANK/KM288862', 'GENBANK/KM288863', 'GENBANK/KM288864', 'GENBANK/KM288865', 'GENBANK/KM288866', 'GENBANK/KM288867']\n",
      "GR: ['1DP2OD007124/OD/NIH HHS/United States', 'DP2 OD007124/OD/NIH HHS/United States', '5-T32-ES007020/ES/NIEHS NIH HHS/United States', 'T32 GM008334/GM/NIGMS NIH HHS/United States', 'T32 ES007020/ES/NIEHS NIH HHS/United States', 'P30 ES002109/ES/NIEHS NIH HHS/United States', '5-T32-GM08334/GM/NIGMS NIH HHS/United States']\n",
      "PT: ['Journal Article', 'Research Support, N.I.H., Extramural', \"Research Support, Non-U.S. Gov't\"]\n",
      "DEP: 20141105\n",
      "PL: England\n",
      "TA: Nat Commun\n",
      "JT: Nature communications\n",
      "JID: 101528555\n",
      "RN: ['0 (Aptamers, Nucleotide)']\n",
      "SB: IM\n",
      "MH: ['Aptamers, Nucleotide', 'Base Sequence', '*Gene Expression Regulation', '*Genetic Techniques', 'Molecular Sequence Data', 'Plasmodium falciparum/genetics/*metabolism']\n",
      "PMC: PMC4223869\n",
      "MID: ['NIHMS630149']\n",
      "COIS: ['COMPETING FINANCIAL INTERESTS S.J.G and J.C.N. are inventors of the genetically', 'encoded protein-binding RNA aptamer technology described and have filed patent', 'applications with other co-inventors.']\n",
      "EDAT: 2014/11/06 06:00\n",
      "MHDA: 2016/01/13 06:00\n",
      "CRDT: ['2014/11/06 06:00']\n",
      "PHST: ['2014/04/15 00:00 [received]', '2014/09/20 00:00 [accepted]', '2014/11/06 06:00 [entrez]', '2014/11/06 06:00 [pubmed]', '2016/01/13 06:00 [medline]']\n",
      "AID: ['ncomms6329 [pii]', '10.1038/ncomms6329 [doi]']\n",
      "PST: epublish\n",
      "SO: Nat Commun. 2014 Nov 5;5:5329. doi: 10.1038/ncomms6329.\n"
     ]
    }
   ],
   "source": [
    "# Import necessary modules from Biopython\n",
    "from Bio import Entrez, Medline, SeqIO\n",
    "\n",
    "# Set your email address for NCBI Entrez access\n",
    "Entrez.email = \"put@your_email.here\"\n",
    "\n",
    "# Use Entrez to retrieve information about available databases\n",
    "handle = Entrez.einfo()\n",
    "rec = Entrez.read(handle)\n",
    "print(rec)\n",
    "\n",
    "# Search for nucleotide sequences with gene name \"CRT\" from \"Plasmodium falciparum\"\n",
    "handle = Entrez.esearch(db=\"nucleotide\", term='CRT[Gene Name] AND \"Plasmodium falciparum\"[Organism]')\n",
    "rec_list = Entrez.read(handle)\n",
    "\n",
    "# If there are more results than the default limit, fetch all results\n",
    "if int(rec_list['RetMax']) < int(rec_list['Count']):\n",
    "    handle = Entrez.esearch(db=\"nucleotide\", term='CRT[Gene Name] AND \"Plasmodium falciparum\"[Organism]',\n",
    "                            retmax=rec_list['Count'])\n",
    "    rec_list = Entrez.read(handle)\n",
    "\n",
    "# Retrieve the list of matching sequence IDs\n",
    "id_list = rec_list['IdList']\n",
    "\n",
    "# Fetch the records corresponding to the retrieved IDs in GenBank format\n",
    "hdl = Entrez.efetch(db='nucleotide', id=id_list, rettype='gb', retmax=rec_list['Count'])\n",
    "recs = list(SeqIO.parse(hdl, 'gb'))\n",
    "\n",
    "# Search for a specific sequence with name \"KM288867\"\n",
    "for rec in recs:\n",
    "    if rec.name == 'KM288867':\n",
    "        break\n",
    "print(rec.name)\n",
    "print(rec.description)\n",
    "\n",
    "# Analyze sequence features\n",
    "for feature in rec.features:\n",
    "    if feature.type == 'gene':\n",
    "        print(feature.qualifiers['gene'])\n",
    "    elif feature.type == 'exon':\n",
    "        loc = feature.location\n",
    "        print('Exon', loc.start, loc.end, loc.strand)\n",
    "    else:\n",
    "        print('not processed:\\n%s' % feature)\n",
    "\n",
    "# Print annotations of the retrieved sequence\n",
    "for name, value in rec.annotations.items():\n",
    "    print('%s=%s' % (name, value))\n",
    "\n",
    "# Print the length of the sequence\n",
    "print(len(rec.seq))\n",
    "\n",
    "# Retrieve and display the references associated with the sequence\n",
    "refs = rec.annotations['references']\n",
    "print(refs)\n",
    "for ref in refs:\n",
    "    if ref.pubmed_id != '':\n",
    "        print(ref.pubmed_id)\n",
    "        handle = Entrez.efetch(db=\"pubmed\", id=[ref.pubmed_id],\n",
    "                                rettype=\"medline\", retmode=\"text\")\n",
    "        records = Medline.parse(handle)\n",
    "        for med_rec in records:\n",
    "            for k, v in med_rec.items():\n",
    "                print('%s: %s' % (k, v))"
   ]
  },
  {
   "attachments": {},
   "cell_type": "markdown",
   "id": "a293da2b",
   "metadata": {},
   "source": [
    "# Analyzing retrieved data"
   ]
  },
  {
   "cell_type": "code",
   "execution_count": 2,
   "id": "d6c1acfb",
   "metadata": {},
   "outputs": [
    {
     "name": "stdout",
     "output_type": "stream",
     "text": [
      "GC content: 34.666666666666664%\n"
     ]
    }
   ],
   "source": [
    "from Bio.SeqUtils import GC\n",
    "\n",
    "sequence = \"ATGCTGACTAGCTAGCTAGCGATATAGATAGTGATGATGATGTGTAGTATAGTAGTGATGTGATTAGTAGTAGTAGTATGATGATGTGATGTAGTATAGTAGTAGTAGTATGATGATGATTACATCTACTACTACTACTAGCTAGCTTAG\"\n",
    "gc_content = GC(sequence)\n",
    "print(f\"GC content: {gc_content}%\")"
   ]
  },
  {
   "attachments": {},
   "cell_type": "markdown",
   "id": "b3025d34",
   "metadata": {},
   "source": [
    "# Filtering retrieved data"
   ]
  },
  {
   "cell_type": "code",
   "execution_count": 4,
   "id": "b962a0fb",
   "metadata": {},
   "outputs": [
    {
     "name": "stdout",
     "output_type": "stream",
     "text": [
      "ID: NP_197847.3\n",
      "Name: NP_197847.3\n",
      "Description: NP_197847.3 TCV-interacting protein [Arabidopsis thaliana]\n",
      "Number of features: 0\n",
      "Seq('MKEDMEVLSLASLPVGFRFSPTDEELVRYYLRLKINGHDNDVRVIREIDICKWE...LVA')\n"
     ]
    }
   ],
   "source": [
    "# Import the SeqIO module from Biopython for parsing sequence data from files\n",
    "from Bio import SeqIO\n",
    "\n",
    "# Function to filter sequences based on their length\n",
    "def filter_sequences_by_length(sequences, min_length):\n",
    "    filtered_sequences = []  # Create an empty list to store the filtered sequences\n",
    "    for sequence in sequences:\n",
    "        if len(sequence) >= min_length:\n",
    "            # Check if the length of the sequence is greater than or equal to the minimum length\n",
    "            # If the condition is met, add the sequence to the filtered_sequences list\n",
    "            filtered_sequences.append(sequence)\n",
    "    return filtered_sequences  # Return the list of filtered sequences\n",
    "\n",
    "# Example usage\n",
    "fasta_file = \"sequence.fasta\"  # Replace with the filename of your FASTA file containing sequences\n",
    "min_length = 100  # Set the minimum length for filtering sequences\n",
    "sequences = SeqIO.parse(fasta_file, \"fasta\")  # Parse the FASTA file to get a sequence iterator\n",
    "filtered_sequences = filter_sequences_by_length(sequences, min_length)  # Call the function to filter sequences\n",
    "for sequence in filtered_sequences:\n",
    "    print(sequence)  # Print the filtered sequences"
   ]
  }
 ],
 "metadata": {
  "kernelspec": {
   "display_name": "Python 3 (ipykernel)",
   "language": "python",
   "name": "python3"
  },
  "language_info": {
   "codemirror_mode": {
    "name": "ipython",
    "version": 3
   },
   "file_extension": ".py",
   "mimetype": "text/x-python",
   "name": "python",
   "nbconvert_exporter": "python",
   "pygments_lexer": "ipython3",
   "version": "3.10.6"
  }
 },
 "nbformat": 4,
 "nbformat_minor": 5
}
