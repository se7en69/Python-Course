{
 "cells": [
  {
   "attachments": {},
   "cell_type": "markdown",
   "metadata": {},
   "source": [
    "# Reading and Writing Sequences"
   ]
  },
  {
   "cell_type": "code",
   "execution_count": 3,
   "metadata": {},
   "outputs": [
    {
     "name": "stdout",
     "output_type": "stream",
     "text": [
      "ID: NP_197847.3\n",
      "Length: 451\n"
     ]
    }
   ],
   "source": [
    "from Bio import SeqIO\n",
    "\n",
    "# Read sequences from a FASTA file\n",
    "sequences = SeqIO.parse(\"sequence.fasta\", \"fasta\")\n",
    "\n",
    "# Iterate over the sequences and print their IDs and lengths\n",
    "for sequence in sequences:\n",
    "    print(\"ID:\", sequence.id)\n",
    "    print(\"Length:\", len(sequence))\n"
   ]
  },
  {
   "attachments": {},
   "cell_type": "markdown",
   "metadata": {},
   "source": [
    "# Calculating Sequence Properties"
   ]
  },
  {
   "cell_type": "code",
   "execution_count": 4,
   "metadata": {},
   "outputs": [
    {
     "name": "stdout",
     "output_type": "stream",
     "text": [
      "GC content: 50.0%\n"
     ]
    }
   ],
   "source": [
    "from Bio.SeqUtils import GC\n",
    "\n",
    "sequence = \"ATGCTGACTAGCTAGCTAGC\"\n",
    "gc_content = GC(sequence)\n",
    "print(f\"GC content: {gc_content}%\")"
   ]
  },
  {
   "attachments": {},
   "cell_type": "markdown",
   "metadata": {},
   "source": [
    "# Sequence Alignment"
   ]
  },
  {
   "cell_type": "code",
   "execution_count": 5,
   "metadata": {},
   "outputs": [
    {
     "name": "stdout",
     "output_type": "stream",
     "text": [
      "Aligned Sequence 1: ACGT\n",
      "Aligned Sequence 2: A-GT\n",
      "Score: 3.0\n",
      "\n"
     ]
    }
   ],
   "source": [
    "from Bio import pairwise2\n",
    "\n",
    "seq1 = \"ACGT\"\n",
    "seq2 = \"AGT\"\n",
    "\n",
    "alignments = pairwise2.align.globalxx(seq1, seq2)\n",
    "\n",
    "for alignment in alignments:\n",
    "    print(\"Aligned Sequence 1:\", alignment.seqA)\n",
    "    print(\"Aligned Sequence 2:\", alignment.seqB)\n",
    "    print(\"Score:\", alignment.score)\n",
    "    print()"
   ]
  },
  {
   "cell_type": "markdown",
   "metadata": {},
   "source": [
    "# Local Alignment"
   ]
  },
  {
   "cell_type": "code",
   "execution_count": 1,
   "metadata": {},
   "outputs": [
    {
     "name": "stdout",
     "output_type": "stream",
     "text": [
      "4 GAGCTAGC\n",
      "  |.||||||\n",
      "3 GGGCTAGC\n",
      "  Score=13\n",
      "\n"
     ]
    }
   ],
   "source": [
    "from Bio import pairwise2\n",
    "from Bio.pairwise2 import format_alignment\n",
    "\n",
    "# Define the scoring system (match, mismatch, gap open, gap extension)\n",
    "match_score = 2\n",
    "mismatch_score = -1\n",
    "gap_open_score = -5\n",
    "gap_extension_score = -0.5\n",
    "\n",
    "# Sample sequences (replace these with your own sequences)\n",
    "seq1 = \"ATCGAGCTAGC\"\n",
    "seq2 = \"ATGGGCTAGC\"\n",
    "\n",
    "# Perform local alignment\n",
    "alignments = pairwise2.align.localms(seq1, seq2, match_score, mismatch_score, gap_open_score, gap_extension_score)\n",
    "\n",
    "# Print the alignments\n",
    "for alignment in alignments:\n",
    "    print(format_alignment(*alignment))\n"
   ]
  },
  {
   "cell_type": "markdown",
   "metadata": {},
   "source": [
    "# Gloabal Alignment"
   ]
  },
  {
   "cell_type": "code",
   "execution_count": 2,
   "metadata": {},
   "outputs": [
    {
     "name": "stdout",
     "output_type": "stream",
     "text": [
      "ATCGAGCTAGC\n",
      "|| |.||||||\n",
      "AT-GGGCTAGC\n",
      "  Score=12\n",
      "\n",
      "ATCGAGCTAGC\n",
      "||.| ||||||\n",
      "ATGG-GCTAGC\n",
      "  Score=12\n",
      "\n"
     ]
    }
   ],
   "source": [
    "from Bio import pairwise2\n",
    "from Bio.pairwise2 import format_alignment\n",
    "\n",
    "# Define the scoring system (match, mismatch, gap open, gap extension)\n",
    "match_score = 2\n",
    "mismatch_score = -1\n",
    "gap_open_score = -5\n",
    "gap_extension_score = -0.5\n",
    "\n",
    "# Sample sequences (replace these with your own sequences)\n",
    "seq1 = \"ATCGAGCTAGC\"\n",
    "seq2 = \"ATGGGCTAGC\"\n",
    "\n",
    "# Perform global alignment\n",
    "alignments = pairwise2.align.globalms(seq1, seq2, match_score, mismatch_score, gap_open_score, gap_extension_score)\n",
    "\n",
    "# Print the alignments\n",
    "for alignment in alignments:\n",
    "    print(format_alignment(*alignment))\n"
   ]
  },
  {
   "attachments": {},
   "cell_type": "markdown",
   "metadata": {},
   "source": [
    "## Performing Multiple Sequence Alignment (MSA)"
   ]
  },
  {
   "cell_type": "code",
   "execution_count": 8,
   "metadata": {},
   "outputs": [
    {
     "name": "stdout",
     "output_type": "stream",
     "text": [
      "Alignment with 3 rows and 20 columns\n",
      "ATGCTGACTAGCTAGCTAGC Seq1\n",
      "ATGCTGACTAGCTAGCTGGC Seq2\n",
      "ATGCTGACTAGCTAGCTTGC Seq3\n"
     ]
    }
   ],
   "source": [
    "from Bio.Align import MultipleSeqAlignment\n",
    "from Bio import AlignIO\n",
    "from Bio.Seq import Seq\n",
    "from Bio.SeqRecord import SeqRecord\n",
    "\n",
    "# Define the sequences\n",
    "sequences = [\n",
    "    SeqRecord(Seq(\"ATGCTGACTAGCTAGCTAGC\"), id=\"Seq1\"),\n",
    "    SeqRecord(Seq(\"ATGCTGACTAGCTAGCTGGC\"), id=\"Seq2\"),\n",
    "    SeqRecord(Seq(\"ATGCTGACTAGCTAGCTTGC\"), id=\"Seq3\")\n",
    "]\n",
    "\n",
    "# Create a MultipleSeqAlignment object\n",
    "alignment = MultipleSeqAlignment(sequences)\n",
    "\n",
    "# Save the alignment to a file\n",
    "AlignIO.write(alignment, \"alignment.fasta\", \"fasta\")\n",
    "\n",
    "# Print the alignment\n",
    "print(alignment)"
   ]
  },
  {
   "attachments": {},
   "cell_type": "markdown",
   "metadata": {},
   "source": [
    "# Searching for Motifs"
   ]
  },
  {
   "cell_type": "code",
   "execution_count": 7,
   "metadata": {},
   "outputs": [
    {
     "name": "stdout",
     "output_type": "stream",
     "text": [
      "Motif Matches: 3\n"
     ]
    }
   ],
   "source": [
    "import re\n",
    "from Bio.Seq import Seq\n",
    "\n",
    "sequence = Seq(\"ATGCTGACTAGCTAGCTAGC\")\n",
    "motif = \"CTG\"\n",
    "\n",
    "matches = [match.start() for match in re.finditer(motif, str(sequence))]\n",
    "print(\"Motif Matches:\", \", \".join(map(str, matches)))"
   ]
  },
  {
   "attachments": {},
   "cell_type": "markdown",
   "metadata": {},
   "source": [
    "# Transcription and Translation"
   ]
  },
  {
   "cell_type": "code",
   "execution_count": 8,
   "metadata": {},
   "outputs": [
    {
     "name": "stdout",
     "output_type": "stream",
     "text": [
      "DNA Sequence: ATGCTGACTAGCTAGCTAGC\n",
      "RNA Sequence: AUGCUGACUAGCUAGCUAGC\n",
      "Protein Sequence: MLTS*L\n"
     ]
    },
    {
     "name": "stderr",
     "output_type": "stream",
     "text": [
      "c:\\Users\\92318\\AppData\\Local\\Programs\\Python\\Python310\\lib\\site-packages\\Bio\\Seq.py:2979: BiopythonWarning: Partial codon, len(sequence) not a multiple of three. Explicitly trim the sequence or add trailing N before translation. This may become an error in future.\n",
      "  warnings.warn(\n"
     ]
    }
   ],
   "source": [
    "from Bio.Seq import Seq\n",
    "\n",
    "dna_sequence = Seq(\"ATGCTGACTAGCTAGCTAGC\")\n",
    "rna_sequence = dna_sequence.transcribe()\n",
    "protein_sequence = rna_sequence.translate()\n",
    "\n",
    "print(\"DNA Sequence:\", dna_sequence)\n",
    "print(\"RNA Sequence:\", rna_sequence)\n",
    "print(\"Protein Sequence:\", protein_sequence)"
   ]
  },
  {
   "attachments": {},
   "cell_type": "markdown",
   "metadata": {},
   "source": [
    "# Calculating Molecular Weight"
   ]
  },
  {
   "cell_type": "code",
   "execution_count": 9,
   "metadata": {},
   "outputs": [
    {
     "name": "stdout",
     "output_type": "stream",
     "text": [
      "Molecular Weight: 6196.952300000001\n"
     ]
    }
   ],
   "source": [
    "# Importing necessary functions and classes from Biopython\n",
    "from Bio.SeqUtils import molecular_weight\n",
    "from Bio.Seq import Seq\n",
    "\n",
    "# Defining a DNA sequence using the Seq class\n",
    "sequence = Seq(\"ATGCTGACTAGCTAGCTAGC\")\n",
    "\n",
    "# Calculating the molecular weight of the DNA sequence using the molecular_weight function\n",
    "weight = molecular_weight(sequence)\n",
    "\n",
    "# Printing the calculated molecular weight\n",
    "print(\"Molecular Weight:\", weight)"
   ]
  },
  {
   "attachments": {},
   "cell_type": "markdown",
   "metadata": {},
   "source": [
    "# Blast for Organism Identification"
   ]
  },
  {
   "cell_type": "code",
   "execution_count": 3,
   "metadata": {},
   "outputs": [
    {
     "name": "stdout",
     "output_type": "stream",
     "text": [
      "Organism: Poeciliopsis prolifica\n"
     ]
    }
   ],
   "source": [
    "from Bio.Blast import NCBIWWW\n",
    "from Bio.Blast import NCBIXML\n",
    "from Bio import Entrez\n",
    "import re\n",
    "\n",
    "# Set the BLAST parameters\n",
    "program = \"blastp\"  # BLAST program (e.g., blastp, blastn, etc.)\n",
    "database = \"nr\"  # BLAST database (e.g., nr, nt, etc.)\n",
    "query_sequence = \"JAO23553.1\"  # Query sequence accession or identifier\n",
    "\n",
    "# Perform BLAST search\n",
    "result_handle = NCBIWWW.qblast(program, database, query_sequence)\n",
    "\n",
    "# Read and parse the BLAST results\n",
    "blast_record = NCBIXML.read(result_handle)\n",
    "\n",
    "# Get the description of the top hit\n",
    "top_hit_description = blast_record.alignments[0].title\n",
    "\n",
    "# Extract the organism information from the description using regular expressions\n",
    "organism_match = re.search(r'\\[.*?\\]', top_hit_description)\n",
    "if organism_match:\n",
    "    organism = organism_match.group(0).strip(\"[]\")\n",
    "else:\n",
    "    organism = \"Organism information not available\"\n",
    "\n",
    "# Print the organism information\n",
    "print(\"Organism:\", organism)\n",
    "\n",
    "# Save the BLAST results to a file\n",
    "with open(\"blast_results.xml\", \"w\") as out_handle:\n",
    "    out_handle.write(result_handle.read())\n",
    "\n",
    "# Close the result handle\n",
    "result_handle.close()\n"
   ]
  }
 ],
 "metadata": {
  "kernelspec": {
   "display_name": "Python 3",
   "language": "python",
   "name": "python3"
  },
  "language_info": {
   "codemirror_mode": {
    "name": "ipython",
    "version": 3
   },
   "file_extension": ".py",
   "mimetype": "text/x-python",
   "name": "python",
   "nbconvert_exporter": "python",
   "pygments_lexer": "ipython3",
   "version": "3.10.6"
  },
  "orig_nbformat": 4
 },
 "nbformat": 4,
 "nbformat_minor": 2
}
